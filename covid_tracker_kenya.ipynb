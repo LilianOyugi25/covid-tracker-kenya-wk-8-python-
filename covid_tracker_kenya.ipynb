# COVID-19 Global and Kenya Data Tracker
import requests
import pandas as pd
from datetime import datetime

# Define function to fetch COVID-19 data
def get_covid_data(country=None):
    url = f"https://disease.sh/v3/covid-19/{'countries/' + country if country else 'all'}"
    response = requests.get(url)
    return response.json()

# Global COVID-19 summary
global_data = get_covid_data()

print("🌍 Global COVID-19 Summary")
print(f"Total Cases: {global_data['cases']:,}")
print(f"Total Deaths: {global_data['deaths']:,}")
print(f"Total Recovered: {global_data['recovered']:,}")
print(f"Last Updated: {datetime.fromtimestamp(global_data['updated']/1000)}\n")

# Kenya COVID-19 summary
kenya_data = get_covid_data("Kenya")

print("🇰🇪 Kenya COVID-19 Summary")
print(f"Total Cases: {kenya_data['cases']:,}")
print(f"Today's Cases: {kenya_data['todayCases']:,}")
print(f"Total Deaths: {kenya_data['deaths']:,}")
print(f"Recovered: {kenya_data['recovered']:,}")
print(f"Last Updated: {datetime.fromtimestamp(kenya_data['updated']/1000)}")

# Optional: Load and display data as DataFrame
kenya_df = pd.DataFrame([kenya_data])[['cases', 'todayCases', 'deaths', 'recovered', 'active', 'critical']]
kenya_df.rename(columns={
    'cases': 'Total Cases',
    'todayCases': 'Today Cases',
    'deaths': 'Total Deaths',
    'recovered': 'Recovered',
    'active': 'Active Cases',
    'critical': 'Critical Cases'
}, inplace=True)
kenya_df
